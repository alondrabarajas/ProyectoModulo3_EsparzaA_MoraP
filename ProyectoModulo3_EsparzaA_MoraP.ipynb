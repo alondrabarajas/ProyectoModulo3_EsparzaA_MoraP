{
 "cells": [
  {
   "cell_type": "markdown",
   "metadata": {},
   "source": [
    "# Proyecto 3 \n",
    "\n",
    "![](https://www.iteso.mx/documents/27014/202031/Logo-ITESO-MinimoV.png)\n",
    "\n",
    "**Integrantes:**\n",
    "\n",
    "**Pablo Crowley Mora**\n",
    "\n",
    "**Alondra Barajas Esparza**\n",
    "\n",
    ">*Ingeniería civil*\n",
    "\n",
    ">Asignatura: Simulación Matematica \n",
    "\n",
    ">Otoño 2020\n"
   ]
  },
  {
   "cell_type": "markdown",
   "metadata": {},
   "source": [
    "### Analisis de una viga simplemente apoyada\n",
    "**En el presente trabajo vamos a estudiar el comportamiento de una viga simplente apoyada, en donde esta es conformada por una viga con dos apoyos en los extremos, siendo esta de 10 metros de longitud y sección\n",
    "rectangular la cual va hacer sometedia a la acción de diferentes esfuerzos.**"
   ]
  },
  {
   "cell_type": "markdown",
   "metadata": {},
   "source": [
    "![](https://encrypted-tbn0.gstatic.com/images?q=tbn:ANd9GcTk04yNaBRvykDV5OGlYo6ycQa3BhTvnoZji6qqnBk4Ssc12k2h&)"
   ]
  },
  {
   "cell_type": "markdown",
   "metadata": {},
   "source": [
    "**Se supondra que el desplazamiento de la viga y el momento flector cumplen la\n",
    "ecuación de la elástica:**\n",
    "\\begin{equation}\n",
    "y´´ = \\frac{M(x)}{EI(x)}.\n",
    "\\end{equation}\n",
    "\n",
    "**la viga ocupa el intervalo x∈{0,L} denotamos el desplazamiento vertical de su eje por y(x).**\n",
    "\n",
    "**Donde:**\n",
    "> E es el Modulo De Elasticidad del material en la viga a evaluar\n",
    "\n",
    "> I inercia de la sección rectangular\n",
    "\n",
    ">M(x) momento flector y este representa el momento de las fuerzas aplicadas sobre la viga\n",
    "\n",
    "Datos propuestos:\n",
    ">E = 5 ⋅ 10^4\n",
    "\n",
    ">a = 0.6 b = 0.3\n",
    "\n",
    ">M(x) = L/2 − |x − L/2 |\n"
   ]
  },
  {
   "cell_type": "code",
   "execution_count": 1,
   "metadata": {},
   "outputs": [],
   "source": [
    "import matplotlib.pyplot as plt\n",
    "%matplotlib inline\n",
    "import numpy as np\n",
    "from scipy.integrate import odeint"
   ]
  },
  {
   "cell_type": "code",
   "execution_count": 2,
   "metadata": {},
   "outputs": [],
   "source": [
    "def f(y, x):\n",
    "    return np.array([y[1], M(x) / (E * I(x))])"
   ]
  },
  {
   "cell_type": "code",
   "execution_count": 3,
   "metadata": {},
   "outputs": [],
   "source": [
    "# Datos\n",
    "L = 10 # Longitud de la viga\n",
    "E = 5e4 # módulo de Elasticidad del material\n",
    "h = 0.6 # altura sección\n",
    "b = 0.3 # ancho sección"
   ]
  },
  {
   "cell_type": "code",
   "execution_count": 4,
   "metadata": {},
   "outputs": [],
   "source": [
    "# Dominio\n",
    "x = np.linspace(0, L,50)"
   ]
  },
  {
   "cell_type": "code",
   "execution_count": 5,
   "metadata": {},
   "outputs": [],
   "source": [
    "#VECTOR DE TIEMPOS\n",
    "t = np.linspace(0, 10)"
   ]
  },
  {
   "cell_type": "code",
   "execution_count": 6,
   "metadata": {},
   "outputs": [],
   "source": [
    "# Inercia\n",
    "def I(x):\n",
    "    return b * h**3 / 12"
   ]
  },
  {
   "cell_type": "code",
   "execution_count": 7,
   "metadata": {},
   "outputs": [],
   "source": [
    "# Momento flector\n",
    "def M(x):\n",
    "    return L/2 - np.abs(x - L/2)"
   ]
  },
  {
   "cell_type": "code",
   "execution_count": 8,
   "metadata": {},
   "outputs": [
    {
     "data": {
      "text/plain": [
       "array([[0.        , 0.005     ],\n",
       "       [0.00102567, 0.00507713],\n",
       "       [0.0020828 , 0.00530851],\n",
       "       [0.0032029 , 0.00569416],\n",
       "       [0.00441744, 0.00623405],\n",
       "       [0.00575791, 0.00692821],\n",
       "       [0.00725578, 0.00777662],\n",
       "       [0.00894253, 0.00877929],\n",
       "       [0.01084965, 0.00993621],\n",
       "       [0.01300862, 0.0112474 ],\n",
       "       [0.01545092, 0.01271284],\n",
       "       [0.01820803, 0.01433253],\n",
       "       [0.02131143, 0.01610648],\n",
       "       [0.0247926 , 0.01803469],\n",
       "       [0.02868302, 0.02011716],\n",
       "       [0.03301418, 0.02235388],\n",
       "       [0.03781755, 0.02474486],\n",
       "       [0.04312461, 0.0272901 ],\n",
       "       [0.04896686, 0.02998959],\n",
       "       [0.05537576, 0.03284334],\n",
       "       [0.06238279, 0.03585134],\n",
       "       [0.07001945, 0.03901361],\n",
       "       [0.07831721, 0.04233012],\n",
       "       [0.08730755, 0.0458009 ],\n",
       "       [0.09702195, 0.04942593],\n",
       "       [0.10749059, 0.05316666],\n",
       "       [0.11871345, 0.05679169],\n",
       "       [0.13066037, 0.06026247],\n",
       "       [0.14329988, 0.06357899],\n",
       "       [0.15660049, 0.06674125],\n",
       "       [0.17053071, 0.06974925],\n",
       "       [0.18505908, 0.072603  ],\n",
       "       [0.2001541 , 0.0753025 ],\n",
       "       [0.2157843 , 0.07784773],\n",
       "       [0.23191819, 0.08023871],\n",
       "       [0.2485243 , 0.08247543],\n",
       "       [0.26557114, 0.0845579 ],\n",
       "       [0.28302723, 0.08648611],\n",
       "       [0.3008611 , 0.08826006],\n",
       "       [0.31904125, 0.08987976],\n",
       "       [0.33753622, 0.09134519],\n",
       "       [0.35631451, 0.09265638],\n",
       "       [0.37534465, 0.0938133 ],\n",
       "       [0.39459516, 0.09481597],\n",
       "       [0.41403456, 0.09566438],\n",
       "       [0.43363136, 0.09635854],\n",
       "       [0.45335408, 0.09689844],\n",
       "       [0.47317124, 0.09728408],\n",
       "       [0.49305137, 0.09751546],\n",
       "       [0.51296298, 0.09759259]])"
      ]
     },
     "execution_count": 8,
     "metadata": {},
     "output_type": "execute_result"
    }
   ],
   "source": [
    "# Probamos solución con la condición inicial\n",
    "yp0 = 5e-3 # Prueba\n",
    "y0 = np.array([0, yp0])\n",
    "sol = odeint(f, y0, x)\n",
    "sol"
   ]
  },
  {
   "cell_type": "code",
   "execution_count": 9,
   "metadata": {},
   "outputs": [
    {
     "data": {
      "text/plain": [
       "array([0.51296298, 0.09759259])"
      ]
     },
     "execution_count": 9,
     "metadata": {},
     "output_type": "execute_result"
    },
    {
     "data": {
      "image/png": "[encoded data removed]",
      "text/plain": [
       "<Figure size 432x288 with 1 Axes>"
      ]
     },
     "metadata": {
      "needs_background": "light"
     },
     "output_type": "display_data"
    }
   ],
   "source": [
    "# La representamos\n",
    "plt.plot(t, sol[:, 0], label='Sol. inicial de aprox.')\n",
    "plt.legend()\n",
    "sol[-1, :]"
   ]
  },
  {
   "cell_type": "code",
   "execution_count": null,
   "metadata": {},
   "outputs": [],
   "source": []
  },
  {
   "cell_type": "code",
   "execution_count": null,
   "metadata": {},
   "outputs": [],
   "source": []
  },
  {
   "cell_type": "code",
   "execution_count": null,
   "metadata": {},
   "outputs": [],
   "source": []
  }
 ],
 "metadata": {
  "kernelspec": {
   "display_name": "Python 3",
   "language": "python",
   "name": "python3"
  },
  "language_info": {
   "codemirror_mode": {
    "name": "ipython",
    "version": 3
   },
   "file_extension": ".py",
   "mimetype": "text/x-python",
   "name": "python",
   "nbconvert_exporter": "python",
   "pygments_lexer": "ipython3",
   "version": "3.8.3"
  }
 },
 "nbformat": 4,
 "nbformat_minor": 4
}
